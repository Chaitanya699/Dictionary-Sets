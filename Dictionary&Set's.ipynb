{
 "cells": [
  {
   "cell_type": "markdown",
   "id": "2d1a3f0a",
   "metadata": {},
   "source": [
    "# Dictionary\n",
    "# Collection of key-value pair\n",
    "# syntax:- {}"
   ]
  },
  {
   "cell_type": "code",
   "execution_count": null,
   "id": "51011c7b",
   "metadata": {},
   "outputs": [],
   "source": [
    "# {k1: v1, k2: v2, k3: v3}"
   ]
  },
  {
   "cell_type": "code",
   "execution_count": 1,
   "id": "71083ab5",
   "metadata": {},
   "outputs": [
    {
     "data": {
      "text/plain": [
       "{'a': 'apple', 'b': 'banana', 'c': 'chery'}"
      ]
     },
     "execution_count": 1,
     "metadata": {},
     "output_type": "execute_result"
    }
   ],
   "source": [
    "fruits= {'a': 'apple', 'b': 'banana','c':'chery'}\n",
    "fruits"
   ]
  },
  {
   "cell_type": "code",
   "execution_count": 2,
   "id": "6634ddd7",
   "metadata": {},
   "outputs": [
    {
     "data": {
      "text/plain": [
       "dict"
      ]
     },
     "execution_count": 2,
     "metadata": {},
     "output_type": "execute_result"
    }
   ],
   "source": [
    "type(fruits)"
   ]
  },
  {
   "cell_type": "code",
   "execution_count": 3,
   "id": "7d8a4c1c",
   "metadata": {},
   "outputs": [
    {
     "data": {
      "text/plain": [
       "3"
      ]
     },
     "execution_count": 3,
     "metadata": {},
     "output_type": "execute_result"
    }
   ],
   "source": [
    "len(fruits)"
   ]
  },
  {
   "cell_type": "code",
   "execution_count": null,
   "id": "8f1767ee",
   "metadata": {},
   "outputs": [],
   "source": [
    "#In dictionary the elements are accessed by key rather than index"
   ]
  },
  {
   "cell_type": "code",
   "execution_count": 4,
   "id": "aa3385e6",
   "metadata": {},
   "outputs": [
    {
     "data": {
      "text/plain": [
       "'apple'"
      ]
     },
     "execution_count": 4,
     "metadata": {},
     "output_type": "execute_result"
    }
   ],
   "source": [
    "fruits['a']"
   ]
  },
  {
   "cell_type": "code",
   "execution_count": 5,
   "id": "dfbfc16a",
   "metadata": {},
   "outputs": [
    {
     "data": {
      "text/plain": [
       "'banana'"
      ]
     },
     "execution_count": 5,
     "metadata": {},
     "output_type": "execute_result"
    }
   ],
   "source": [
    "fruits['b']"
   ]
  },
  {
   "cell_type": "code",
   "execution_count": 6,
   "id": "4e251e5b",
   "metadata": {},
   "outputs": [],
   "source": [
    "#Add elements to the dictionary\n",
    "fruits['w'] = 'Watermelon'"
   ]
  },
  {
   "cell_type": "code",
   "execution_count": 7,
   "id": "ab6c49ef",
   "metadata": {},
   "outputs": [
    {
     "data": {
      "text/plain": [
       "{'a': 'apple', 'b': 'banana', 'c': 'chery', 'w': 'Watermelon'}"
      ]
     },
     "execution_count": 7,
     "metadata": {},
     "output_type": "execute_result"
    }
   ],
   "source": [
    "fruits\n"
   ]
  },
  {
   "cell_type": "code",
   "execution_count": 8,
   "id": "0396b0d4",
   "metadata": {},
   "outputs": [
    {
     "data": {
      "text/plain": [
       "{'a': 'apple', 'b': 'banana', 'c': 'chery', 'w': 'Watermelon', 'p': 'papaya'}"
      ]
     },
     "execution_count": 8,
     "metadata": {},
     "output_type": "execute_result"
    }
   ],
   "source": [
    "fruits['p'] = 'papaya'\n",
    "fruits"
   ]
  },
  {
   "cell_type": "code",
   "execution_count": 11,
   "id": "466437eb",
   "metadata": {},
   "outputs": [],
   "source": [
    "fruits['a'] = 'apricot'"
   ]
  },
  {
   "cell_type": "code",
   "execution_count": 10,
   "id": "2beb25cf",
   "metadata": {},
   "outputs": [
    {
     "data": {
      "text/plain": [
       "{'a': 'apricot', 'b': 'banana', 'c': 'chery', 'w': 'Watermelon', 'p': 'papaya'}"
      ]
     },
     "execution_count": 10,
     "metadata": {},
     "output_type": "execute_result"
    }
   ],
   "source": [
    "fruits"
   ]
  },
  {
   "cell_type": "code",
   "execution_count": 12,
   "id": "c13f0c52",
   "metadata": {},
   "outputs": [
    {
     "data": {
      "text/plain": [
       "{'a': 'apricot',\n",
       " 'b': 'banana',\n",
       " 'c': 'chery',\n",
       " 'w': 'Watermelon',\n",
       " 'p': 'papaya',\n",
       " 'd': 'apricot'}"
      ]
     },
     "execution_count": 12,
     "metadata": {},
     "output_type": "execute_result"
    }
   ],
   "source": [
    "fruits['d'] = 'apricot'\n",
    "fruits"
   ]
  },
  {
   "cell_type": "code",
   "execution_count": 13,
   "id": "e6c4b725",
   "metadata": {},
   "outputs": [],
   "source": [
    "ipl = {}"
   ]
  },
  {
   "cell_type": "code",
   "execution_count": 14,
   "id": "520998b6",
   "metadata": {},
   "outputs": [
    {
     "data": {
      "text/plain": [
       "0"
      ]
     },
     "execution_count": 14,
     "metadata": {},
     "output_type": "execute_result"
    }
   ],
   "source": [
    "len(ipl)"
   ]
  },
  {
   "cell_type": "code",
   "execution_count": 15,
   "id": "f43422bf",
   "metadata": {},
   "outputs": [],
   "source": [
    "ipl['MI'] = ['Rohit','Surya']"
   ]
  },
  {
   "cell_type": "code",
   "execution_count": 16,
   "id": "56a1523f",
   "metadata": {},
   "outputs": [
    {
     "data": {
      "text/plain": [
       "{'MI': ['Rohit', 'Surya']}"
      ]
     },
     "execution_count": 16,
     "metadata": {},
     "output_type": "execute_result"
    }
   ],
   "source": [
    "ipl"
   ]
  },
  {
   "cell_type": "code",
   "execution_count": 17,
   "id": "a075cd42",
   "metadata": {},
   "outputs": [],
   "source": [
    "ipl['RCB']= ['Virat','ABD']"
   ]
  },
  {
   "cell_type": "code",
   "execution_count": 18,
   "id": "20d750a4",
   "metadata": {},
   "outputs": [
    {
     "data": {
      "text/plain": [
       "{'MI': ['Rohit', 'Surya'], 'RCB': ['Virat', 'ABD']}"
      ]
     },
     "execution_count": 18,
     "metadata": {},
     "output_type": "execute_result"
    }
   ],
   "source": [
    "ipl"
   ]
  },
  {
   "cell_type": "code",
   "execution_count": 19,
   "id": "113885df",
   "metadata": {},
   "outputs": [],
   "source": [
    "ipl['MI'].append('Bumrah')"
   ]
  },
  {
   "cell_type": "code",
   "execution_count": 24,
   "id": "6c050255",
   "metadata": {},
   "outputs": [],
   "source": [
    "ipl['Mumbai']= ipl['MI']"
   ]
  },
  {
   "cell_type": "code",
   "execution_count": 25,
   "id": "ca7d806c",
   "metadata": {},
   "outputs": [
    {
     "data": {
      "text/plain": [
       "{'MI': ['Rohit', 'Surya', 'Bumrah', 'Hardi'],\n",
       " 'RCB': ['Virat', 'ABD'],\n",
       " 'Mumbai': ['Rohit', 'Surya', 'Bumrah', 'Hardi']}"
      ]
     },
     "execution_count": 25,
     "metadata": {},
     "output_type": "execute_result"
    }
   ],
   "source": [
    "ipl"
   ]
  },
  {
   "cell_type": "code",
   "execution_count": 26,
   "id": "0b0d8aca",
   "metadata": {},
   "outputs": [],
   "source": [
    "#drop the kye in dictionary\n",
    "ipl['MI'].append('Hardi')"
   ]
  },
  {
   "cell_type": "code",
   "execution_count": 27,
   "id": "23cbdea0",
   "metadata": {},
   "outputs": [
    {
     "data": {
      "text/plain": [
       "{'MI': ['Rohit', 'Surya', 'Bumrah', 'Hardi', 'Hardi'],\n",
       " 'RCB': ['Virat', 'ABD'],\n",
       " 'Mumbai': ['Rohit', 'Surya', 'Bumrah', 'Hardi', 'Hardi']}"
      ]
     },
     "execution_count": 27,
     "metadata": {},
     "output_type": "execute_result"
    }
   ],
   "source": [
    "ipl"
   ]
  },
  {
   "cell_type": "code",
   "execution_count": 28,
   "id": "96a1d3da",
   "metadata": {},
   "outputs": [],
   "source": [
    "ipl['MI'].remove('Hardi')"
   ]
  },
  {
   "cell_type": "code",
   "execution_count": 29,
   "id": "bef7dd4d",
   "metadata": {},
   "outputs": [
    {
     "data": {
      "text/plain": [
       "{'MI': ['Rohit', 'Surya', 'Bumrah', 'Hardi'],\n",
       " 'RCB': ['Virat', 'ABD'],\n",
       " 'Mumbai': ['Rohit', 'Surya', 'Bumrah', 'Hardi']}"
      ]
     },
     "execution_count": 29,
     "metadata": {},
     "output_type": "execute_result"
    }
   ],
   "source": [
    "ipl"
   ]
  },
  {
   "cell_type": "code",
   "execution_count": 30,
   "id": "f5e0e9cd",
   "metadata": {},
   "outputs": [
    {
     "data": {
      "text/plain": [
       "{'MI': ['Rohit', 'Surya', 'Bumrah', 'Hardi'],\n",
       " 'RCB': ['Virat', 'ABD'],\n",
       " 'Mumbai': ['Rohit', 'Surya', 'Bumrah', 'Hardi'],\n",
       " 'Bangalore': ['Virat', 'ABD']}"
      ]
     },
     "execution_count": 30,
     "metadata": {},
     "output_type": "execute_result"
    }
   ],
   "source": [
    "ipl['Bangalore'] = ['Virat','ABD']\n",
    "ipl"
   ]
  },
  {
   "cell_type": "code",
   "execution_count": 31,
   "id": "e87b5bae",
   "metadata": {},
   "outputs": [
    {
     "data": {
      "text/plain": [
       "{'MI': ['Rohit', 'Surya', 'Bumrah', 'Hardi'],\n",
       " 'RCB': ['Virat', 'ABD', 'Yuzi'],\n",
       " 'Mumbai': ['Rohit', 'Surya', 'Bumrah', 'Hardi'],\n",
       " 'Bangalore': ['Virat', 'ABD']}"
      ]
     },
     "execution_count": 31,
     "metadata": {},
     "output_type": "execute_result"
    }
   ],
   "source": [
    "ipl['RCB'].append('Yuzi')\n",
    "ipl"
   ]
  },
  {
   "cell_type": "code",
   "execution_count": 32,
   "id": "bd5e19c1",
   "metadata": {},
   "outputs": [
    {
     "data": {
      "text/plain": [
       "True"
      ]
     },
     "execution_count": 32,
     "metadata": {},
     "output_type": "execute_result"
    }
   ],
   "source": [
    "#in Oprator\n",
    "'MI' in ipl"
   ]
  },
  {
   "cell_type": "code",
   "execution_count": 33,
   "id": "86e1c393",
   "metadata": {},
   "outputs": [
    {
     "data": {
      "text/plain": [
       "False"
      ]
     },
     "execution_count": 33,
     "metadata": {},
     "output_type": "execute_result"
    }
   ],
   "source": [
    "'mi' in ipl"
   ]
  },
  {
   "cell_type": "code",
   "execution_count": 34,
   "id": "4b6ffef3",
   "metadata": {},
   "outputs": [
    {
     "data": {
      "text/plain": [
       "['Rohit', 'Surya', 'Bumrah', 'Hardi']"
      ]
     },
     "execution_count": 34,
     "metadata": {},
     "output_type": "execute_result"
    }
   ],
   "source": [
    "ipl.get('MI')"
   ]
  },
  {
   "cell_type": "code",
   "execution_count": 35,
   "id": "bbf20db2",
   "metadata": {},
   "outputs": [
    {
     "data": {
      "text/plain": [
       "dict_items([('MI', ['Rohit', 'Surya', 'Bumrah', 'Hardi']), ('RCB', ['Virat', 'ABD', 'Yuzi']), ('Mumbai', ['Rohit', 'Surya', 'Bumrah', 'Hardi']), ('Bangalore', ['Virat', 'ABD'])])"
      ]
     },
     "execution_count": 35,
     "metadata": {},
     "output_type": "execute_result"
    }
   ],
   "source": [
    "ipl.items()"
   ]
  },
  {
   "cell_type": "code",
   "execution_count": 37,
   "id": "ec618188",
   "metadata": {},
   "outputs": [
    {
     "data": {
      "text/plain": [
       "dict_keys(['MI', 'RCB', 'Mumbai', 'Bangalore'])"
      ]
     },
     "execution_count": 37,
     "metadata": {},
     "output_type": "execute_result"
    }
   ],
   "source": [
    "ipl.keys()"
   ]
  },
  {
   "cell_type": "code",
   "execution_count": 38,
   "id": "9eb063da",
   "metadata": {},
   "outputs": [
    {
     "data": {
      "text/plain": [
       "dict_values([['Rohit', 'Surya', 'Bumrah', 'Hardi'], ['Virat', 'ABD', 'Yuzi'], ['Rohit', 'Surya', 'Bumrah', 'Hardi'], ['Virat', 'ABD']])"
      ]
     },
     "execution_count": 38,
     "metadata": {},
     "output_type": "execute_result"
    }
   ],
   "source": [
    "ipl.values()"
   ]
  },
  {
   "cell_type": "code",
   "execution_count": 39,
   "id": "cfb0411c",
   "metadata": {},
   "outputs": [
    {
     "data": {
      "text/plain": [
       "dict_items([('a', 'apricot'), ('b', 'banana'), ('c', 'chery'), ('w', 'Watermelon'), ('p', 'papaya'), ('d', 'apricot')])"
      ]
     },
     "execution_count": 39,
     "metadata": {},
     "output_type": "execute_result"
    }
   ],
   "source": [
    "fruits.items()"
   ]
  },
  {
   "cell_type": "code",
   "execution_count": 40,
   "id": "ee996c20",
   "metadata": {},
   "outputs": [
    {
     "data": {
      "text/plain": [
       "('a', 'apricot')"
      ]
     },
     "execution_count": 40,
     "metadata": {},
     "output_type": "execute_result"
    }
   ],
   "source": [
    "list(fruits.items())[0]"
   ]
  },
  {
   "cell_type": "code",
   "execution_count": 41,
   "id": "f65bc2c4",
   "metadata": {},
   "outputs": [
    {
     "data": {
      "text/plain": [
       "'apricot'"
      ]
     },
     "execution_count": 41,
     "metadata": {},
     "output_type": "execute_result"
    }
   ],
   "source": [
    "list(fruits.items())[0][1]"
   ]
  },
  {
   "cell_type": "code",
   "execution_count": 44,
   "id": "137ae644",
   "metadata": {},
   "outputs": [
    {
     "data": {
      "text/plain": [
       "'banana'"
      ]
     },
     "execution_count": 44,
     "metadata": {},
     "output_type": "execute_result"
    }
   ],
   "source": [
    "list(fruits.items())[1][1]"
   ]
  },
  {
   "cell_type": "code",
   "execution_count": 45,
   "id": "4672e185",
   "metadata": {},
   "outputs": [
    {
     "data": {
      "text/plain": [
       "'apricot'"
      ]
     },
     "execution_count": 45,
     "metadata": {},
     "output_type": "execute_result"
    }
   ],
   "source": [
    "#pop function use in dictionary\n",
    "fruits.pop('d')"
   ]
  },
  {
   "cell_type": "code",
   "execution_count": 46,
   "id": "ca7d5642",
   "metadata": {},
   "outputs": [
    {
     "data": {
      "text/plain": [
       "{'a': 'apricot', 'b': 'banana', 'c': 'chery', 'w': 'Watermelon', 'p': 'papaya'}"
      ]
     },
     "execution_count": 46,
     "metadata": {},
     "output_type": "execute_result"
    }
   ],
   "source": [
    "fruits"
   ]
  },
  {
   "cell_type": "code",
   "execution_count": 48,
   "id": "d92d1f52",
   "metadata": {},
   "outputs": [
    {
     "data": {
      "text/plain": [
       "{'a': 'apricot', 'b': 'banana', 'c': 'chery', 'w': 'Watermelon'}"
      ]
     },
     "execution_count": 48,
     "metadata": {},
     "output_type": "execute_result"
    }
   ],
   "source": [
    "#popitems\n",
    "fruits.popitem()\n",
    "fruits"
   ]
  },
  {
   "cell_type": "code",
   "execution_count": 49,
   "id": "63609aea",
   "metadata": {},
   "outputs": [],
   "source": [
    "alphabets = {'a': 100, 'b': 200}\n"
   ]
  },
  {
   "cell_type": "code",
   "execution_count": 51,
   "id": "b065bd1d",
   "metadata": {},
   "outputs": [
    {
     "data": {
      "text/plain": [
       "{'a': 100, 'b': 200}"
      ]
     },
     "execution_count": 51,
     "metadata": {},
     "output_type": "execute_result"
    }
   ],
   "source": [
    "alphabets"
   ]
  },
  {
   "cell_type": "code",
   "execution_count": 53,
   "id": "67cd79aa",
   "metadata": {},
   "outputs": [],
   "source": [
    "fruits.update(alphabets)"
   ]
  },
  {
   "cell_type": "code",
   "execution_count": null,
   "id": "7229ff4e",
   "metadata": {},
   "outputs": [],
   "source": []
  },
  {
   "cell_type": "code",
   "execution_count": 54,
   "id": "84573dad",
   "metadata": {},
   "outputs": [
    {
     "data": {
      "text/plain": [
       "{'a': 100, 'b': 200, 'c': 'chery', 'w': 'Watermelon'}"
      ]
     },
     "execution_count": 54,
     "metadata": {},
     "output_type": "execute_result"
    }
   ],
   "source": [
    "fruits"
   ]
  },
  {
   "cell_type": "markdown",
   "id": "c1cae964",
   "metadata": {},
   "source": [
    "### sets\n",
    "# set are nothing but unique collection of items, duplicate elements\n",
    "# are't allowed\n",
    "# unoredered"
   ]
  },
  {
   "cell_type": "code",
   "execution_count": 55,
   "id": "0e7aa4c1",
   "metadata": {},
   "outputs": [],
   "source": [
    "s = set()"
   ]
  },
  {
   "cell_type": "code",
   "execution_count": 56,
   "id": "450c0d03",
   "metadata": {},
   "outputs": [
    {
     "data": {
      "text/plain": [
       "set()"
      ]
     },
     "execution_count": 56,
     "metadata": {},
     "output_type": "execute_result"
    }
   ],
   "source": [
    "s"
   ]
  },
  {
   "cell_type": "code",
   "execution_count": 57,
   "id": "20dec18c",
   "metadata": {},
   "outputs": [
    {
     "data": {
      "text/plain": [
       "set"
      ]
     },
     "execution_count": 57,
     "metadata": {},
     "output_type": "execute_result"
    }
   ],
   "source": [
    "type(s)"
   ]
  },
  {
   "cell_type": "code",
   "execution_count": 59,
   "id": "39fa0733",
   "metadata": {},
   "outputs": [],
   "source": [
    "a = set('BANGLORE')"
   ]
  },
  {
   "cell_type": "code",
   "execution_count": 60,
   "id": "9aacf39c",
   "metadata": {},
   "outputs": [
    {
     "data": {
      "text/plain": [
       "{'A', 'B', 'E', 'G', 'L', 'N', 'O', 'R'}"
      ]
     },
     "execution_count": 60,
     "metadata": {},
     "output_type": "execute_result"
    }
   ],
   "source": [
    "a"
   ]
  },
  {
   "cell_type": "code",
   "execution_count": 61,
   "id": "fb426539",
   "metadata": {},
   "outputs": [
    {
     "data": {
      "text/plain": [
       "8"
      ]
     },
     "execution_count": 61,
     "metadata": {},
     "output_type": "execute_result"
    }
   ],
   "source": [
    "len(a)"
   ]
  },
  {
   "cell_type": "code",
   "execution_count": 62,
   "id": "bba957d4",
   "metadata": {},
   "outputs": [],
   "source": [
    "b = set('SINGAPORE')"
   ]
  },
  {
   "cell_type": "code",
   "execution_count": 63,
   "id": "6782a34c",
   "metadata": {},
   "outputs": [
    {
     "data": {
      "text/plain": [
       "{'A', 'E', 'G', 'I', 'N', 'O', 'P', 'R', 'S'}"
      ]
     },
     "execution_count": 63,
     "metadata": {},
     "output_type": "execute_result"
    }
   ],
   "source": [
    "b"
   ]
  },
  {
   "cell_type": "code",
   "execution_count": 64,
   "id": "24ce2952",
   "metadata": {},
   "outputs": [
    {
     "data": {
      "text/plain": [
       "9"
      ]
     },
     "execution_count": 64,
     "metadata": {},
     "output_type": "execute_result"
    }
   ],
   "source": [
    "len(b)"
   ]
  },
  {
   "cell_type": "code",
   "execution_count": 65,
   "id": "bd17c8d3",
   "metadata": {},
   "outputs": [
    {
     "data": {
      "text/plain": [
       "{'A', 'B', 'E', 'G', 'I', 'L', 'N', 'O', 'P', 'R', 'S'}"
      ]
     },
     "execution_count": 65,
     "metadata": {},
     "output_type": "execute_result"
    }
   ],
   "source": [
    "#Union \n",
    "# a + b\n",
    "a | b"
   ]
  },
  {
   "cell_type": "code",
   "execution_count": 66,
   "id": "dee006b5",
   "metadata": {},
   "outputs": [
    {
     "name": "stdout",
     "output_type": "stream",
     "text": [
      "a | b {'N', 'B', 'G', 'A', 'O', 'S', 'E', 'P', 'R', 'I', 'L'}\n"
     ]
    }
   ],
   "source": [
    "print(\"a | b\", a | b)"
   ]
  },
  {
   "cell_type": "code",
   "execution_count": 67,
   "id": "5e066576",
   "metadata": {},
   "outputs": [
    {
     "data": {
      "text/plain": [
       "{'B', 'L'}"
      ]
     },
     "execution_count": 67,
     "metadata": {},
     "output_type": "execute_result"
    }
   ],
   "source": [
    "# a - b\n",
    "a - b"
   ]
  },
  {
   "cell_type": "code",
   "execution_count": 68,
   "id": "07ec0096",
   "metadata": {},
   "outputs": [
    {
     "data": {
      "text/plain": [
       "{'I', 'P', 'S'}"
      ]
     },
     "execution_count": 68,
     "metadata": {},
     "output_type": "execute_result"
    }
   ],
   "source": [
    "b - a"
   ]
  },
  {
   "cell_type": "code",
   "execution_count": 69,
   "id": "72dac408",
   "metadata": {},
   "outputs": [
    {
     "data": {
      "text/plain": [
       "{'A', 'E', 'G', 'N', 'O', 'R'}"
      ]
     },
     "execution_count": 69,
     "metadata": {},
     "output_type": "execute_result"
    }
   ],
   "source": [
    "a & b"
   ]
  },
  {
   "cell_type": "code",
   "execution_count": 71,
   "id": "f0b8ff4a",
   "metadata": {},
   "outputs": [],
   "source": [
    "# how to add the element to set\n",
    "\n",
    "a.add('NEW')"
   ]
  },
  {
   "cell_type": "code",
   "execution_count": 72,
   "id": "7c43c9c4",
   "metadata": {},
   "outputs": [
    {
     "data": {
      "text/plain": [
       "{'A', 'B', 'E', 'G', 'L', 'N', 'NEW', 'O', 'R'}"
      ]
     },
     "execution_count": 72,
     "metadata": {},
     "output_type": "execute_result"
    }
   ],
   "source": [
    "a"
   ]
  },
  {
   "cell_type": "markdown",
   "id": "5f0137bd",
   "metadata": {},
   "source": [
    "# RANGE"
   ]
  },
  {
   "cell_type": "code",
   "execution_count": 73,
   "id": "1e9845cb",
   "metadata": {},
   "outputs": [],
   "source": [
    "r = range(0,10)"
   ]
  },
  {
   "cell_type": "code",
   "execution_count": 74,
   "id": "33955338",
   "metadata": {},
   "outputs": [
    {
     "data": {
      "text/plain": [
       "range(0, 10)"
      ]
     },
     "execution_count": 74,
     "metadata": {},
     "output_type": "execute_result"
    }
   ],
   "source": [
    "r"
   ]
  },
  {
   "cell_type": "code",
   "execution_count": 75,
   "id": "7c57d7b8",
   "metadata": {},
   "outputs": [
    {
     "data": {
      "text/plain": [
       "range"
      ]
     },
     "execution_count": 75,
     "metadata": {},
     "output_type": "execute_result"
    }
   ],
   "source": [
    "type(r)"
   ]
  },
  {
   "cell_type": "code",
   "execution_count": 76,
   "id": "8af1559c",
   "metadata": {},
   "outputs": [
    {
     "data": {
      "text/plain": [
       "[0, 1, 2, 3, 4, 5, 6, 7, 8, 9]"
      ]
     },
     "execution_count": 76,
     "metadata": {},
     "output_type": "execute_result"
    }
   ],
   "source": [
    "list(r)"
   ]
  },
  {
   "cell_type": "code",
   "execution_count": 77,
   "id": "47c22d0d",
   "metadata": {},
   "outputs": [
    {
     "data": {
      "text/plain": [
       "(0, 1, 2, 3, 4, 5, 6, 7, 8, 9)"
      ]
     },
     "execution_count": 77,
     "metadata": {},
     "output_type": "execute_result"
    }
   ],
   "source": [
    "tuple(r)"
   ]
  },
  {
   "cell_type": "code",
   "execution_count": 78,
   "id": "80f7c6e4",
   "metadata": {},
   "outputs": [],
   "source": [
    "a = set(r)"
   ]
  },
  {
   "cell_type": "code",
   "execution_count": 79,
   "id": "4f849cdb",
   "metadata": {},
   "outputs": [
    {
     "data": {
      "text/plain": [
       "{0, 1, 2, 3, 4, 5, 6, 7, 8, 9}"
      ]
     },
     "execution_count": 79,
     "metadata": {},
     "output_type": "execute_result"
    }
   ],
   "source": [
    "a"
   ]
  },
  {
   "cell_type": "code",
   "execution_count": null,
   "id": "caa21e28",
   "metadata": {},
   "outputs": [],
   "source": [
    "# range & xrange\n",
    "# python 2.7\n",
    "# range -> ALWAYS USED TO CREATE A LIST\n",
    "# xrange -> creates a range\n",
    "# range in python 3.x is actually xrange in python 2.7"
   ]
  },
  {
   "cell_type": "code",
   "execution_count": 80,
   "id": "25bd5043",
   "metadata": {},
   "outputs": [],
   "source": [
    "r2 = range(5,51,10)"
   ]
  },
  {
   "cell_type": "code",
   "execution_count": 81,
   "id": "5ff515bb",
   "metadata": {},
   "outputs": [
    {
     "data": {
      "text/plain": [
       "range(5, 51, 10)"
      ]
     },
     "execution_count": 81,
     "metadata": {},
     "output_type": "execute_result"
    }
   ],
   "source": [
    "r2"
   ]
  },
  {
   "cell_type": "code",
   "execution_count": 82,
   "id": "357369f8",
   "metadata": {},
   "outputs": [
    {
     "data": {
      "text/plain": [
       "[5, 15, 25, 35, 45]"
      ]
     },
     "execution_count": 82,
     "metadata": {},
     "output_type": "execute_result"
    }
   ],
   "source": [
    "list(r2)"
   ]
  },
  {
   "cell_type": "code",
   "execution_count": null,
   "id": "1274ea1f",
   "metadata": {},
   "outputs": [],
   "source": []
  }
 ],
 "metadata": {
  "kernelspec": {
   "display_name": "Python 3 (ipykernel)",
   "language": "python",
   "name": "python3"
  },
  "language_info": {
   "codemirror_mode": {
    "name": "ipython",
    "version": 3
   },
   "file_extension": ".py",
   "mimetype": "text/x-python",
   "name": "python",
   "nbconvert_exporter": "python",
   "pygments_lexer": "ipython3",
   "version": "3.9.12"
  }
 },
 "nbformat": 4,
 "nbformat_minor": 5
}
